{
 "cells": [
  {
   "cell_type": "code",
   "execution_count": 1,
   "metadata": {},
   "outputs": [
    {
     "name": "stderr",
     "output_type": "stream",
     "text": [
      "Using TensorFlow backend.\n"
     ]
    }
   ],
   "source": [
    "from GVAE import smilesGVAE\n",
    "from dataTools import s2oh\n",
    "\n",
    "import pandas as pd\n",
    "import numpy as np"
   ]
  },
  {
   "cell_type": "markdown",
   "metadata": {},
   "source": [
    "# Calculate SLogP based on 56-D Hidden Rep"
   ]
  },
  {
   "cell_type": "code",
   "execution_count": 2,
   "metadata": {},
   "outputs": [
    {
     "data": {
      "text/html": [
       "<div>\n",
       "<style scoped>\n",
       "    .dataframe tbody tr th:only-of-type {\n",
       "        vertical-align: middle;\n",
       "    }\n",
       "\n",
       "    .dataframe tbody tr th {\n",
       "        vertical-align: top;\n",
       "    }\n",
       "\n",
       "    .dataframe thead th {\n",
       "        text-align: right;\n",
       "    }\n",
       "</style>\n",
       "<table border=\"1\" class=\"dataframe\">\n",
       "  <thead>\n",
       "    <tr style=\"text-align: right;\">\n",
       "      <th></th>\n",
       "      <th>Molecule</th>\n",
       "    </tr>\n",
       "  </thead>\n",
       "  <tbody>\n",
       "    <tr>\n",
       "      <th>0</th>\n",
       "      <td>O=C(Cn1nc(ccc1=O)-c1cccc2ccccc12)NC1CCCCCC1</td>\n",
       "    </tr>\n",
       "    <tr>\n",
       "      <th>1</th>\n",
       "      <td>COc1cc(cc(OC)c1OC)C(=O)NCCn1c(C)nc2ncccc2c1=O</td>\n",
       "    </tr>\n",
       "    <tr>\n",
       "      <th>2</th>\n",
       "      <td>Fc1cc(F)c(CC(=O)NCCCc2nnc3ccccn23)cc1F</td>\n",
       "    </tr>\n",
       "    <tr>\n",
       "      <th>3</th>\n",
       "      <td>Cc1nc2ccc(F)cc2c(=O)n1CC(=O)Nc1nc(cs1)-c1cccnc1</td>\n",
       "    </tr>\n",
       "    <tr>\n",
       "      <th>4</th>\n",
       "      <td>Clc1cccc(c1)N1CCN(CC1)C(=O)CCC(=O)NCc1cccnc1</td>\n",
       "    </tr>\n",
       "  </tbody>\n",
       "</table>\n",
       "</div>"
      ],
      "text/plain": [
       "                                          Molecule\n",
       "0      O=C(Cn1nc(ccc1=O)-c1cccc2ccccc12)NC1CCCCCC1\n",
       "1    COc1cc(cc(OC)c1OC)C(=O)NCCn1c(C)nc2ncccc2c1=O\n",
       "2           Fc1cc(F)c(CC(=O)NCCCc2nnc3ccccn23)cc1F\n",
       "3  Cc1nc2ccc(F)cc2c(=O)n1CC(=O)Nc1nc(cs1)-c1cccnc1\n",
       "4     Clc1cccc(c1)N1CCN(CC1)C(=O)CCC(=O)NCc1cccnc1"
      ]
     },
     "execution_count": 2,
     "metadata": {},
     "output_type": "execute_result"
    }
   ],
   "source": [
    "# for data 2000 cmpds from ZincDB\n",
    "fn1 = 'data/zinc2k.csv'\n",
    "df1 = pd.read_csv(fn1, sep='\\t',index_col=0)\n",
    "\n",
    "df1.head()"
   ]
  },
  {
   "cell_type": "markdown",
   "metadata": {},
   "source": [
    "### Convert to One-hot encodings of grammar production rules."
   ]
  },
  {
   "cell_type": "code",
   "execution_count": 3,
   "metadata": {},
   "outputs": [],
   "source": [
    "smiles1 = list(df1['Molecule'])"
   ]
  },
  {
   "cell_type": "code",
   "execution_count": 4,
   "metadata": {},
   "outputs": [],
   "source": [
    "soh1 = s2oh(smiles1)"
   ]
  },
  {
   "cell_type": "markdown",
   "metadata": {},
   "source": [
    "### Use default network architechture with weights on 5M ZincDB cmpds  *Note: training data itself too big for github*"
   ]
  },
  {
   "cell_type": "code",
   "execution_count": 7,
   "metadata": {},
   "outputs": [],
   "source": [
    "wf = 'data/5000k6MZinc_L56_E60_val.hdf5'"
   ]
  },
  {
   "cell_type": "code",
   "execution_count": 8,
   "metadata": {},
   "outputs": [],
   "source": [
    "#Network parameters\n",
    "\n",
    "params  = {\n",
    "        'LATENT':56,\n",
    "        'nC':3,\n",
    "        'nD':3,\n",
    "        'beta':1.0,\n",
    "        'gruf':501,\n",
    "        'ngpu':1,\n",
    "        'opt':'adam',\n",
    "        'wFile':wf\n",
    "    }"
   ]
  },
  {
   "cell_type": "code",
   "execution_count": 9,
   "metadata": {},
   "outputs": [],
   "source": [
    "sgv = smilesGVAE(**params)"
   ]
  },
  {
   "cell_type": "markdown",
   "metadata": {},
   "source": [
    "### Get the 56-D Hidden Rep"
   ]
  },
  {
   "cell_type": "code",
   "execution_count": 10,
   "metadata": {},
   "outputs": [
    {
     "data": {
      "text/plain": [
       "(2000, 56)"
      ]
     },
     "execution_count": 10,
     "metadata": {},
     "output_type": "execute_result"
    }
   ],
   "source": [
    "H1 = sgv.emv.predict(soh1)[0]\n",
    "np.shape(H1)"
   ]
  },
  {
   "cell_type": "code",
   "execution_count": 11,
   "metadata": {},
   "outputs": [
    {
     "data": {
      "text/html": [
       "<div>\n",
       "<style scoped>\n",
       "    .dataframe tbody tr th:only-of-type {\n",
       "        vertical-align: middle;\n",
       "    }\n",
       "\n",
       "    .dataframe tbody tr th {\n",
       "        vertical-align: top;\n",
       "    }\n",
       "\n",
       "    .dataframe thead th {\n",
       "        text-align: right;\n",
       "    }\n",
       "</style>\n",
       "<table border=\"1\" class=\"dataframe\">\n",
       "  <thead>\n",
       "    <tr style=\"text-align: right;\">\n",
       "      <th></th>\n",
       "      <th>H0</th>\n",
       "      <th>H1</th>\n",
       "      <th>H2</th>\n",
       "      <th>H3</th>\n",
       "      <th>H4</th>\n",
       "      <th>H5</th>\n",
       "      <th>H6</th>\n",
       "      <th>H7</th>\n",
       "      <th>H8</th>\n",
       "      <th>H9</th>\n",
       "      <th>...</th>\n",
       "      <th>H46</th>\n",
       "      <th>H47</th>\n",
       "      <th>H48</th>\n",
       "      <th>H49</th>\n",
       "      <th>H50</th>\n",
       "      <th>H51</th>\n",
       "      <th>H52</th>\n",
       "      <th>H53</th>\n",
       "      <th>H54</th>\n",
       "      <th>H55</th>\n",
       "    </tr>\n",
       "  </thead>\n",
       "  <tbody>\n",
       "    <tr>\n",
       "      <th>0</th>\n",
       "      <td>-0.056452</td>\n",
       "      <td>-0.048531</td>\n",
       "      <td>-0.150616</td>\n",
       "      <td>-0.093743</td>\n",
       "      <td>0.067024</td>\n",
       "      <td>-0.020457</td>\n",
       "      <td>0.192012</td>\n",
       "      <td>-0.026030</td>\n",
       "      <td>0.167727</td>\n",
       "      <td>0.048220</td>\n",
       "      <td>...</td>\n",
       "      <td>0.249193</td>\n",
       "      <td>0.092645</td>\n",
       "      <td>-0.089358</td>\n",
       "      <td>-0.054265</td>\n",
       "      <td>0.063203</td>\n",
       "      <td>-0.091157</td>\n",
       "      <td>0.076444</td>\n",
       "      <td>0.148729</td>\n",
       "      <td>0.025671</td>\n",
       "      <td>-0.072653</td>\n",
       "    </tr>\n",
       "    <tr>\n",
       "      <th>1</th>\n",
       "      <td>0.207599</td>\n",
       "      <td>0.090353</td>\n",
       "      <td>-0.284250</td>\n",
       "      <td>0.223203</td>\n",
       "      <td>-0.177065</td>\n",
       "      <td>-0.054485</td>\n",
       "      <td>0.167771</td>\n",
       "      <td>0.025156</td>\n",
       "      <td>0.024902</td>\n",
       "      <td>-0.114339</td>\n",
       "      <td>...</td>\n",
       "      <td>0.371571</td>\n",
       "      <td>0.098776</td>\n",
       "      <td>-0.150744</td>\n",
       "      <td>0.079663</td>\n",
       "      <td>0.065034</td>\n",
       "      <td>-0.097502</td>\n",
       "      <td>0.006446</td>\n",
       "      <td>0.025683</td>\n",
       "      <td>-0.026152</td>\n",
       "      <td>0.118370</td>\n",
       "    </tr>\n",
       "    <tr>\n",
       "      <th>2</th>\n",
       "      <td>-0.013880</td>\n",
       "      <td>-0.035068</td>\n",
       "      <td>-0.259615</td>\n",
       "      <td>0.238261</td>\n",
       "      <td>-0.022644</td>\n",
       "      <td>-0.130764</td>\n",
       "      <td>0.107852</td>\n",
       "      <td>-0.065243</td>\n",
       "      <td>0.042585</td>\n",
       "      <td>-0.071855</td>\n",
       "      <td>...</td>\n",
       "      <td>0.204976</td>\n",
       "      <td>-0.016361</td>\n",
       "      <td>0.001261</td>\n",
       "      <td>-0.079490</td>\n",
       "      <td>-0.259187</td>\n",
       "      <td>-0.089213</td>\n",
       "      <td>-0.072343</td>\n",
       "      <td>-0.078527</td>\n",
       "      <td>0.241991</td>\n",
       "      <td>-0.101353</td>\n",
       "    </tr>\n",
       "    <tr>\n",
       "      <th>3</th>\n",
       "      <td>0.040539</td>\n",
       "      <td>-0.082396</td>\n",
       "      <td>-0.221651</td>\n",
       "      <td>0.035389</td>\n",
       "      <td>-0.066090</td>\n",
       "      <td>-0.024173</td>\n",
       "      <td>0.462721</td>\n",
       "      <td>-0.035353</td>\n",
       "      <td>0.091070</td>\n",
       "      <td>-0.183925</td>\n",
       "      <td>...</td>\n",
       "      <td>0.235006</td>\n",
       "      <td>-0.035177</td>\n",
       "      <td>0.113895</td>\n",
       "      <td>-0.074150</td>\n",
       "      <td>0.066039</td>\n",
       "      <td>-0.068341</td>\n",
       "      <td>-0.072201</td>\n",
       "      <td>-0.106540</td>\n",
       "      <td>-0.116148</td>\n",
       "      <td>0.281224</td>\n",
       "    </tr>\n",
       "    <tr>\n",
       "      <th>4</th>\n",
       "      <td>0.046550</td>\n",
       "      <td>0.024660</td>\n",
       "      <td>-0.023576</td>\n",
       "      <td>0.065885</td>\n",
       "      <td>0.083299</td>\n",
       "      <td>-0.234295</td>\n",
       "      <td>0.199290</td>\n",
       "      <td>0.064539</td>\n",
       "      <td>0.112091</td>\n",
       "      <td>-0.012676</td>\n",
       "      <td>...</td>\n",
       "      <td>-0.013561</td>\n",
       "      <td>-0.066350</td>\n",
       "      <td>-0.133875</td>\n",
       "      <td>-0.165434</td>\n",
       "      <td>0.058270</td>\n",
       "      <td>-0.077580</td>\n",
       "      <td>-0.053577</td>\n",
       "      <td>-0.102798</td>\n",
       "      <td>-0.172305</td>\n",
       "      <td>0.277824</td>\n",
       "    </tr>\n",
       "  </tbody>\n",
       "</table>\n",
       "<p>5 rows × 56 columns</p>\n",
       "</div>"
      ],
      "text/plain": [
       "         H0        H1        H2        H3        H4        H5        H6  \\\n",
       "0 -0.056452 -0.048531 -0.150616 -0.093743  0.067024 -0.020457  0.192012   \n",
       "1  0.207599  0.090353 -0.284250  0.223203 -0.177065 -0.054485  0.167771   \n",
       "2 -0.013880 -0.035068 -0.259615  0.238261 -0.022644 -0.130764  0.107852   \n",
       "3  0.040539 -0.082396 -0.221651  0.035389 -0.066090 -0.024173  0.462721   \n",
       "4  0.046550  0.024660 -0.023576  0.065885  0.083299 -0.234295  0.199290   \n",
       "\n",
       "         H7        H8        H9    ...          H46       H47       H48  \\\n",
       "0 -0.026030  0.167727  0.048220    ...     0.249193  0.092645 -0.089358   \n",
       "1  0.025156  0.024902 -0.114339    ...     0.371571  0.098776 -0.150744   \n",
       "2 -0.065243  0.042585 -0.071855    ...     0.204976 -0.016361  0.001261   \n",
       "3 -0.035353  0.091070 -0.183925    ...     0.235006 -0.035177  0.113895   \n",
       "4  0.064539  0.112091 -0.012676    ...    -0.013561 -0.066350 -0.133875   \n",
       "\n",
       "        H49       H50       H51       H52       H53       H54       H55  \n",
       "0 -0.054265  0.063203 -0.091157  0.076444  0.148729  0.025671 -0.072653  \n",
       "1  0.079663  0.065034 -0.097502  0.006446  0.025683 -0.026152  0.118370  \n",
       "2 -0.079490 -0.259187 -0.089213 -0.072343 -0.078527  0.241991 -0.101353  \n",
       "3 -0.074150  0.066039 -0.068341 -0.072201 -0.106540 -0.116148  0.281224  \n",
       "4 -0.165434  0.058270 -0.077580 -0.053577 -0.102798 -0.172305  0.277824  \n",
       "\n",
       "[5 rows x 56 columns]"
      ]
     },
     "execution_count": 11,
     "metadata": {},
     "output_type": "execute_result"
    }
   ],
   "source": [
    "H1 = pd.DataFrame(H1,columns=['H'+str(i) for i in range(56)])\n",
    "H1.head()"
   ]
  },
  {
   "cell_type": "markdown",
   "metadata": {},
   "source": [
    "### Calculate SLogP using RDKit"
   ]
  },
  {
   "cell_type": "code",
   "execution_count": 12,
   "metadata": {},
   "outputs": [],
   "source": [
    "from rdkit import Chem\n",
    "from rdkit.Chem import Descriptors"
   ]
  },
  {
   "cell_type": "code",
   "execution_count": 13,
   "metadata": {},
   "outputs": [],
   "source": [
    "def slogp(s):\n",
    "    m = Chem.MolFromSmiles(s)\n",
    "    slp = Descriptors.MolLogP(m)\n",
    "    return slp"
   ]
  },
  {
   "cell_type": "code",
   "execution_count": 14,
   "metadata": {},
   "outputs": [
    {
     "data": {
      "text/plain": [
       "1.3114"
      ]
     },
     "execution_count": 14,
     "metadata": {},
     "output_type": "execute_result"
    }
   ],
   "source": [
    "slogp('OC1CCCCC1') # cyclohexanol"
   ]
  },
  {
   "cell_type": "code",
   "execution_count": 15,
   "metadata": {},
   "outputs": [],
   "source": [
    "vlogp = np.vectorize(slogp)"
   ]
  },
  {
   "cell_type": "code",
   "execution_count": 16,
   "metadata": {},
   "outputs": [],
   "source": [
    "SLP = vlogp(smiles1)"
   ]
  },
  {
   "cell_type": "code",
   "execution_count": 17,
   "metadata": {},
   "outputs": [
    {
     "data": {
      "text/html": [
       "<div>\n",
       "<style scoped>\n",
       "    .dataframe tbody tr th:only-of-type {\n",
       "        vertical-align: middle;\n",
       "    }\n",
       "\n",
       "    .dataframe tbody tr th {\n",
       "        vertical-align: top;\n",
       "    }\n",
       "\n",
       "    .dataframe thead th {\n",
       "        text-align: right;\n",
       "    }\n",
       "</style>\n",
       "<table border=\"1\" class=\"dataframe\">\n",
       "  <thead>\n",
       "    <tr style=\"text-align: right;\">\n",
       "      <th></th>\n",
       "      <th>SLogP</th>\n",
       "    </tr>\n",
       "  </thead>\n",
       "  <tbody>\n",
       "    <tr>\n",
       "      <th>0</th>\n",
       "      <td>3.90250</td>\n",
       "    </tr>\n",
       "    <tr>\n",
       "      <th>1</th>\n",
       "      <td>1.55572</td>\n",
       "    </tr>\n",
       "    <tr>\n",
       "      <th>2</th>\n",
       "      <td>2.43810</td>\n",
       "    </tr>\n",
       "    <tr>\n",
       "      <th>3</th>\n",
       "      <td>3.00122</td>\n",
       "    </tr>\n",
       "    <tr>\n",
       "      <th>4</th>\n",
       "      <td>2.48020</td>\n",
       "    </tr>\n",
       "  </tbody>\n",
       "</table>\n",
       "</div>"
      ],
      "text/plain": [
       "     SLogP\n",
       "0  3.90250\n",
       "1  1.55572\n",
       "2  2.43810\n",
       "3  3.00122\n",
       "4  2.48020"
      ]
     },
     "execution_count": 17,
     "metadata": {},
     "output_type": "execute_result"
    }
   ],
   "source": [
    "SLP = pd.DataFrame(SLP,columns=['SLogP'])\n",
    "SLP.head()"
   ]
  },
  {
   "cell_type": "code",
   "execution_count": 18,
   "metadata": {},
   "outputs": [],
   "source": [
    "def zvFilter(df):\n",
    "    cvar = np.var(df,axis=0)\n",
    "    idx=np.where(cvar==0.0)\n",
    "    idx=list(df.columns[idx])\n",
    "    return df.drop(columns=idx)"
   ]
  },
  {
   "cell_type": "code",
   "execution_count": 19,
   "metadata": {},
   "outputs": [
    {
     "data": {
      "text/html": [
       "<div>\n",
       "<style scoped>\n",
       "    .dataframe tbody tr th:only-of-type {\n",
       "        vertical-align: middle;\n",
       "    }\n",
       "\n",
       "    .dataframe tbody tr th {\n",
       "        vertical-align: top;\n",
       "    }\n",
       "\n",
       "    .dataframe thead th {\n",
       "        text-align: right;\n",
       "    }\n",
       "</style>\n",
       "<table border=\"1\" class=\"dataframe\">\n",
       "  <thead>\n",
       "    <tr style=\"text-align: right;\">\n",
       "      <th></th>\n",
       "      <th>H0</th>\n",
       "      <th>H1</th>\n",
       "      <th>H2</th>\n",
       "      <th>H3</th>\n",
       "      <th>H4</th>\n",
       "      <th>H5</th>\n",
       "      <th>H6</th>\n",
       "      <th>H7</th>\n",
       "      <th>H8</th>\n",
       "      <th>H9</th>\n",
       "      <th>...</th>\n",
       "      <th>H46</th>\n",
       "      <th>H47</th>\n",
       "      <th>H48</th>\n",
       "      <th>H49</th>\n",
       "      <th>H50</th>\n",
       "      <th>H51</th>\n",
       "      <th>H52</th>\n",
       "      <th>H53</th>\n",
       "      <th>H54</th>\n",
       "      <th>H55</th>\n",
       "    </tr>\n",
       "  </thead>\n",
       "  <tbody>\n",
       "    <tr>\n",
       "      <th>0</th>\n",
       "      <td>-0.056452</td>\n",
       "      <td>-0.048531</td>\n",
       "      <td>-0.150616</td>\n",
       "      <td>-0.093743</td>\n",
       "      <td>0.067024</td>\n",
       "      <td>-0.020457</td>\n",
       "      <td>0.192012</td>\n",
       "      <td>-0.026030</td>\n",
       "      <td>0.167727</td>\n",
       "      <td>0.048220</td>\n",
       "      <td>...</td>\n",
       "      <td>0.249193</td>\n",
       "      <td>0.092645</td>\n",
       "      <td>-0.089358</td>\n",
       "      <td>-0.054265</td>\n",
       "      <td>0.063203</td>\n",
       "      <td>-0.091157</td>\n",
       "      <td>0.076444</td>\n",
       "      <td>0.148729</td>\n",
       "      <td>0.025671</td>\n",
       "      <td>-0.072653</td>\n",
       "    </tr>\n",
       "    <tr>\n",
       "      <th>1</th>\n",
       "      <td>0.207599</td>\n",
       "      <td>0.090353</td>\n",
       "      <td>-0.284250</td>\n",
       "      <td>0.223203</td>\n",
       "      <td>-0.177065</td>\n",
       "      <td>-0.054485</td>\n",
       "      <td>0.167771</td>\n",
       "      <td>0.025156</td>\n",
       "      <td>0.024902</td>\n",
       "      <td>-0.114339</td>\n",
       "      <td>...</td>\n",
       "      <td>0.371571</td>\n",
       "      <td>0.098776</td>\n",
       "      <td>-0.150744</td>\n",
       "      <td>0.079663</td>\n",
       "      <td>0.065034</td>\n",
       "      <td>-0.097502</td>\n",
       "      <td>0.006446</td>\n",
       "      <td>0.025683</td>\n",
       "      <td>-0.026152</td>\n",
       "      <td>0.118370</td>\n",
       "    </tr>\n",
       "    <tr>\n",
       "      <th>2</th>\n",
       "      <td>-0.013880</td>\n",
       "      <td>-0.035068</td>\n",
       "      <td>-0.259615</td>\n",
       "      <td>0.238261</td>\n",
       "      <td>-0.022644</td>\n",
       "      <td>-0.130764</td>\n",
       "      <td>0.107852</td>\n",
       "      <td>-0.065243</td>\n",
       "      <td>0.042585</td>\n",
       "      <td>-0.071855</td>\n",
       "      <td>...</td>\n",
       "      <td>0.204976</td>\n",
       "      <td>-0.016361</td>\n",
       "      <td>0.001261</td>\n",
       "      <td>-0.079490</td>\n",
       "      <td>-0.259187</td>\n",
       "      <td>-0.089213</td>\n",
       "      <td>-0.072343</td>\n",
       "      <td>-0.078527</td>\n",
       "      <td>0.241991</td>\n",
       "      <td>-0.101353</td>\n",
       "    </tr>\n",
       "    <tr>\n",
       "      <th>3</th>\n",
       "      <td>0.040539</td>\n",
       "      <td>-0.082396</td>\n",
       "      <td>-0.221651</td>\n",
       "      <td>0.035389</td>\n",
       "      <td>-0.066090</td>\n",
       "      <td>-0.024173</td>\n",
       "      <td>0.462721</td>\n",
       "      <td>-0.035353</td>\n",
       "      <td>0.091070</td>\n",
       "      <td>-0.183925</td>\n",
       "      <td>...</td>\n",
       "      <td>0.235006</td>\n",
       "      <td>-0.035177</td>\n",
       "      <td>0.113895</td>\n",
       "      <td>-0.074150</td>\n",
       "      <td>0.066039</td>\n",
       "      <td>-0.068341</td>\n",
       "      <td>-0.072201</td>\n",
       "      <td>-0.106540</td>\n",
       "      <td>-0.116148</td>\n",
       "      <td>0.281224</td>\n",
       "    </tr>\n",
       "    <tr>\n",
       "      <th>4</th>\n",
       "      <td>0.046550</td>\n",
       "      <td>0.024660</td>\n",
       "      <td>-0.023576</td>\n",
       "      <td>0.065885</td>\n",
       "      <td>0.083299</td>\n",
       "      <td>-0.234295</td>\n",
       "      <td>0.199290</td>\n",
       "      <td>0.064539</td>\n",
       "      <td>0.112091</td>\n",
       "      <td>-0.012676</td>\n",
       "      <td>...</td>\n",
       "      <td>-0.013561</td>\n",
       "      <td>-0.066350</td>\n",
       "      <td>-0.133875</td>\n",
       "      <td>-0.165434</td>\n",
       "      <td>0.058270</td>\n",
       "      <td>-0.077580</td>\n",
       "      <td>-0.053577</td>\n",
       "      <td>-0.102798</td>\n",
       "      <td>-0.172305</td>\n",
       "      <td>0.277824</td>\n",
       "    </tr>\n",
       "  </tbody>\n",
       "</table>\n",
       "<p>5 rows × 56 columns</p>\n",
       "</div>"
      ],
      "text/plain": [
       "         H0        H1        H2        H3        H4        H5        H6  \\\n",
       "0 -0.056452 -0.048531 -0.150616 -0.093743  0.067024 -0.020457  0.192012   \n",
       "1  0.207599  0.090353 -0.284250  0.223203 -0.177065 -0.054485  0.167771   \n",
       "2 -0.013880 -0.035068 -0.259615  0.238261 -0.022644 -0.130764  0.107852   \n",
       "3  0.040539 -0.082396 -0.221651  0.035389 -0.066090 -0.024173  0.462721   \n",
       "4  0.046550  0.024660 -0.023576  0.065885  0.083299 -0.234295  0.199290   \n",
       "\n",
       "         H7        H8        H9    ...          H46       H47       H48  \\\n",
       "0 -0.026030  0.167727  0.048220    ...     0.249193  0.092645 -0.089358   \n",
       "1  0.025156  0.024902 -0.114339    ...     0.371571  0.098776 -0.150744   \n",
       "2 -0.065243  0.042585 -0.071855    ...     0.204976 -0.016361  0.001261   \n",
       "3 -0.035353  0.091070 -0.183925    ...     0.235006 -0.035177  0.113895   \n",
       "4  0.064539  0.112091 -0.012676    ...    -0.013561 -0.066350 -0.133875   \n",
       "\n",
       "        H49       H50       H51       H52       H53       H54       H55  \n",
       "0 -0.054265  0.063203 -0.091157  0.076444  0.148729  0.025671 -0.072653  \n",
       "1  0.079663  0.065034 -0.097502  0.006446  0.025683 -0.026152  0.118370  \n",
       "2 -0.079490 -0.259187 -0.089213 -0.072343 -0.078527  0.241991 -0.101353  \n",
       "3 -0.074150  0.066039 -0.068341 -0.072201 -0.106540 -0.116148  0.281224  \n",
       "4 -0.165434  0.058270 -0.077580 -0.053577 -0.102798 -0.172305  0.277824  \n",
       "\n",
       "[5 rows x 56 columns]"
      ]
     },
     "execution_count": 19,
     "metadata": {},
     "output_type": "execute_result"
    }
   ],
   "source": [
    "H1v = zvFilter(H1); H1v.head()"
   ]
  },
  {
   "cell_type": "code",
   "execution_count": 20,
   "metadata": {},
   "outputs": [],
   "source": [
    "from sklearn.ensemble import RandomForestRegressor"
   ]
  },
  {
   "cell_type": "code",
   "execution_count": 21,
   "metadata": {},
   "outputs": [],
   "source": [
    "regr = RandomForestRegressor(n_estimators=100,oob_score=True)"
   ]
  },
  {
   "cell_type": "code",
   "execution_count": 22,
   "metadata": {},
   "outputs": [
    {
     "data": {
      "text/plain": [
       "RandomForestRegressor(bootstrap=True, criterion='mse', max_depth=None,\n",
       "           max_features='auto', max_leaf_nodes=None,\n",
       "           min_impurity_decrease=0.0, min_impurity_split=None,\n",
       "           min_samples_leaf=1, min_samples_split=2,\n",
       "           min_weight_fraction_leaf=0.0, n_estimators=100, n_jobs=None,\n",
       "           oob_score=True, random_state=None, verbose=0, warm_start=False)"
      ]
     },
     "execution_count": 22,
     "metadata": {},
     "output_type": "execute_result"
    }
   ],
   "source": [
    "regr.fit(H1v,SLP['SLogP'])"
   ]
  },
  {
   "cell_type": "code",
   "execution_count": 23,
   "metadata": {},
   "outputs": [],
   "source": [
    "yob = regr.oob_prediction_\n",
    "y = SLP['SLogP']"
   ]
  },
  {
   "cell_type": "code",
   "execution_count": 24,
   "metadata": {},
   "outputs": [],
   "source": [
    "import seaborn as sbn\n",
    "import matplotlib.pyplot as plt"
   ]
  },
  {
   "cell_type": "code",
   "execution_count": 25,
   "metadata": {},
   "outputs": [
    {
     "data": {
      "image/png": "[encoded data removed]",
      "text/plain": [
       "<Figure size 432x288 with 1 Axes>"
      ]
     },
     "metadata": {},
     "output_type": "display_data"
    }
   ],
   "source": [
    "sbn.regplot(y,yob)\n",
    "plt.title('SLogP Prediction Based on Hidden Rep')\n",
    "plt.show()"
   ]
  },
  {
   "cell_type": "code",
   "execution_count": 26,
   "metadata": {},
   "outputs": [
    {
     "name": "stdout",
     "output_type": "stream",
     "text": [
      "R2 = 0.6066527136558725\n"
     ]
    }
   ],
   "source": [
    "from scipy.stats import pearsonr\n",
    "r2, _P = pearsonr(y,yob)\n",
    "print(f'R2 = {r2}')"
   ]
  },
  {
   "cell_type": "code",
   "execution_count": 27,
   "metadata": {},
   "outputs": [],
   "source": [
    "from rdkit.Chem.rdmolops import PatternFingerprint"
   ]
  },
  {
   "cell_type": "code",
   "execution_count": 28,
   "metadata": {},
   "outputs": [],
   "source": [
    "def fngrPrint(s):\n",
    "    m = Chem.MolFromSmiles(s)\n",
    "    f = PatternFingerprint(m)\n",
    "    f = f.ToBitString()\n",
    "    f = np.array([int(x) for x in f])\n",
    "    f = f.reshape(1,-1)\n",
    "    return f"
   ]
  },
  {
   "cell_type": "code",
   "execution_count": 29,
   "metadata": {},
   "outputs": [],
   "source": [
    "fps = np.concatenate([fngrPrint(s) for s in df1.Molecule],axis=0)"
   ]
  },
  {
   "cell_type": "code",
   "execution_count": 30,
   "metadata": {},
   "outputs": [],
   "source": [
    "cn = ['F'+str(i) for i in range(2048)]"
   ]
  },
  {
   "cell_type": "code",
   "execution_count": 31,
   "metadata": {},
   "outputs": [
    {
     "data": {
      "text/html": [
       "<div>\n",
       "<style scoped>\n",
       "    .dataframe tbody tr th:only-of-type {\n",
       "        vertical-align: middle;\n",
       "    }\n",
       "\n",
       "    .dataframe tbody tr th {\n",
       "        vertical-align: top;\n",
       "    }\n",
       "\n",
       "    .dataframe thead th {\n",
       "        text-align: right;\n",
       "    }\n",
       "</style>\n",
       "<table border=\"1\" class=\"dataframe\">\n",
       "  <thead>\n",
       "    <tr style=\"text-align: right;\">\n",
       "      <th></th>\n",
       "      <th>F0</th>\n",
       "      <th>F1</th>\n",
       "      <th>F2</th>\n",
       "      <th>F3</th>\n",
       "      <th>F4</th>\n",
       "      <th>F5</th>\n",
       "      <th>F6</th>\n",
       "      <th>F7</th>\n",
       "      <th>F8</th>\n",
       "      <th>F9</th>\n",
       "      <th>...</th>\n",
       "      <th>F2038</th>\n",
       "      <th>F2039</th>\n",
       "      <th>F2040</th>\n",
       "      <th>F2041</th>\n",
       "      <th>F2042</th>\n",
       "      <th>F2043</th>\n",
       "      <th>F2044</th>\n",
       "      <th>F2045</th>\n",
       "      <th>F2046</th>\n",
       "      <th>F2047</th>\n",
       "    </tr>\n",
       "  </thead>\n",
       "  <tbody>\n",
       "    <tr>\n",
       "      <th>0</th>\n",
       "      <td>0</td>\n",
       "      <td>1</td>\n",
       "      <td>0</td>\n",
       "      <td>1</td>\n",
       "      <td>0</td>\n",
       "      <td>0</td>\n",
       "      <td>0</td>\n",
       "      <td>0</td>\n",
       "      <td>0</td>\n",
       "      <td>0</td>\n",
       "      <td>...</td>\n",
       "      <td>1</td>\n",
       "      <td>0</td>\n",
       "      <td>0</td>\n",
       "      <td>0</td>\n",
       "      <td>0</td>\n",
       "      <td>0</td>\n",
       "      <td>0</td>\n",
       "      <td>1</td>\n",
       "      <td>1</td>\n",
       "      <td>0</td>\n",
       "    </tr>\n",
       "    <tr>\n",
       "      <th>1</th>\n",
       "      <td>0</td>\n",
       "      <td>1</td>\n",
       "      <td>0</td>\n",
       "      <td>1</td>\n",
       "      <td>0</td>\n",
       "      <td>0</td>\n",
       "      <td>0</td>\n",
       "      <td>0</td>\n",
       "      <td>0</td>\n",
       "      <td>0</td>\n",
       "      <td>...</td>\n",
       "      <td>1</td>\n",
       "      <td>0</td>\n",
       "      <td>0</td>\n",
       "      <td>0</td>\n",
       "      <td>0</td>\n",
       "      <td>0</td>\n",
       "      <td>0</td>\n",
       "      <td>1</td>\n",
       "      <td>1</td>\n",
       "      <td>0</td>\n",
       "    </tr>\n",
       "    <tr>\n",
       "      <th>2</th>\n",
       "      <td>0</td>\n",
       "      <td>1</td>\n",
       "      <td>0</td>\n",
       "      <td>1</td>\n",
       "      <td>0</td>\n",
       "      <td>0</td>\n",
       "      <td>0</td>\n",
       "      <td>0</td>\n",
       "      <td>0</td>\n",
       "      <td>0</td>\n",
       "      <td>...</td>\n",
       "      <td>0</td>\n",
       "      <td>0</td>\n",
       "      <td>0</td>\n",
       "      <td>0</td>\n",
       "      <td>0</td>\n",
       "      <td>0</td>\n",
       "      <td>0</td>\n",
       "      <td>1</td>\n",
       "      <td>1</td>\n",
       "      <td>0</td>\n",
       "    </tr>\n",
       "    <tr>\n",
       "      <th>3</th>\n",
       "      <td>0</td>\n",
       "      <td>1</td>\n",
       "      <td>0</td>\n",
       "      <td>1</td>\n",
       "      <td>0</td>\n",
       "      <td>0</td>\n",
       "      <td>0</td>\n",
       "      <td>0</td>\n",
       "      <td>0</td>\n",
       "      <td>0</td>\n",
       "      <td>...</td>\n",
       "      <td>1</td>\n",
       "      <td>0</td>\n",
       "      <td>0</td>\n",
       "      <td>0</td>\n",
       "      <td>0</td>\n",
       "      <td>0</td>\n",
       "      <td>0</td>\n",
       "      <td>1</td>\n",
       "      <td>1</td>\n",
       "      <td>0</td>\n",
       "    </tr>\n",
       "    <tr>\n",
       "      <th>4</th>\n",
       "      <td>0</td>\n",
       "      <td>1</td>\n",
       "      <td>0</td>\n",
       "      <td>1</td>\n",
       "      <td>0</td>\n",
       "      <td>0</td>\n",
       "      <td>0</td>\n",
       "      <td>0</td>\n",
       "      <td>0</td>\n",
       "      <td>0</td>\n",
       "      <td>...</td>\n",
       "      <td>1</td>\n",
       "      <td>0</td>\n",
       "      <td>0</td>\n",
       "      <td>0</td>\n",
       "      <td>0</td>\n",
       "      <td>0</td>\n",
       "      <td>0</td>\n",
       "      <td>1</td>\n",
       "      <td>1</td>\n",
       "      <td>0</td>\n",
       "    </tr>\n",
       "  </tbody>\n",
       "</table>\n",
       "<p>5 rows × 2048 columns</p>\n",
       "</div>"
      ],
      "text/plain": [
       "   F0  F1  F2  F3  F4  F5  F6  F7  F8  F9  ...    F2038  F2039  F2040  F2041  \\\n",
       "0   0   1   0   1   0   0   0   0   0   0  ...        1      0      0      0   \n",
       "1   0   1   0   1   0   0   0   0   0   0  ...        1      0      0      0   \n",
       "2   0   1   0   1   0   0   0   0   0   0  ...        0      0      0      0   \n",
       "3   0   1   0   1   0   0   0   0   0   0  ...        1      0      0      0   \n",
       "4   0   1   0   1   0   0   0   0   0   0  ...        1      0      0      0   \n",
       "\n",
       "   F2042  F2043  F2044  F2045  F2046  F2047  \n",
       "0      0      0      0      1      1      0  \n",
       "1      0      0      0      1      1      0  \n",
       "2      0      0      0      1      1      0  \n",
       "3      0      0      0      1      1      0  \n",
       "4      0      0      0      1      1      0  \n",
       "\n",
       "[5 rows x 2048 columns]"
      ]
     },
     "execution_count": 31,
     "metadata": {},
     "output_type": "execute_result"
    }
   ],
   "source": [
    "fps = pd.DataFrame(fps,columns=cn); fps.head()"
   ]
  },
  {
   "cell_type": "code",
   "execution_count": 32,
   "metadata": {},
   "outputs": [
    {
     "data": {
      "text/html": [
       "<div>\n",
       "<style scoped>\n",
       "    .dataframe tbody tr th:only-of-type {\n",
       "        vertical-align: middle;\n",
       "    }\n",
       "\n",
       "    .dataframe tbody tr th {\n",
       "        vertical-align: top;\n",
       "    }\n",
       "\n",
       "    .dataframe thead th {\n",
       "        text-align: right;\n",
       "    }\n",
       "</style>\n",
       "<table border=\"1\" class=\"dataframe\">\n",
       "  <thead>\n",
       "    <tr style=\"text-align: right;\">\n",
       "      <th></th>\n",
       "      <th>F0</th>\n",
       "      <th>F1</th>\n",
       "      <th>F2</th>\n",
       "      <th>F3</th>\n",
       "      <th>F4</th>\n",
       "      <th>F5</th>\n",
       "      <th>F6</th>\n",
       "      <th>F7</th>\n",
       "      <th>F8</th>\n",
       "      <th>F9</th>\n",
       "      <th>...</th>\n",
       "      <th>F2038</th>\n",
       "      <th>F2039</th>\n",
       "      <th>F2040</th>\n",
       "      <th>F2041</th>\n",
       "      <th>F2042</th>\n",
       "      <th>F2043</th>\n",
       "      <th>F2044</th>\n",
       "      <th>F2045</th>\n",
       "      <th>F2046</th>\n",
       "      <th>F2047</th>\n",
       "    </tr>\n",
       "  </thead>\n",
       "  <tbody>\n",
       "    <tr>\n",
       "      <th>0</th>\n",
       "      <td>0</td>\n",
       "      <td>1</td>\n",
       "      <td>0</td>\n",
       "      <td>1</td>\n",
       "      <td>0</td>\n",
       "      <td>0</td>\n",
       "      <td>0</td>\n",
       "      <td>0</td>\n",
       "      <td>0</td>\n",
       "      <td>0</td>\n",
       "      <td>...</td>\n",
       "      <td>1</td>\n",
       "      <td>0</td>\n",
       "      <td>0</td>\n",
       "      <td>0</td>\n",
       "      <td>0</td>\n",
       "      <td>0</td>\n",
       "      <td>0</td>\n",
       "      <td>1</td>\n",
       "      <td>1</td>\n",
       "      <td>0</td>\n",
       "    </tr>\n",
       "    <tr>\n",
       "      <th>1</th>\n",
       "      <td>0</td>\n",
       "      <td>1</td>\n",
       "      <td>0</td>\n",
       "      <td>1</td>\n",
       "      <td>0</td>\n",
       "      <td>0</td>\n",
       "      <td>0</td>\n",
       "      <td>0</td>\n",
       "      <td>0</td>\n",
       "      <td>0</td>\n",
       "      <td>...</td>\n",
       "      <td>1</td>\n",
       "      <td>0</td>\n",
       "      <td>0</td>\n",
       "      <td>0</td>\n",
       "      <td>0</td>\n",
       "      <td>0</td>\n",
       "      <td>0</td>\n",
       "      <td>1</td>\n",
       "      <td>1</td>\n",
       "      <td>0</td>\n",
       "    </tr>\n",
       "    <tr>\n",
       "      <th>2</th>\n",
       "      <td>0</td>\n",
       "      <td>1</td>\n",
       "      <td>0</td>\n",
       "      <td>1</td>\n",
       "      <td>0</td>\n",
       "      <td>0</td>\n",
       "      <td>0</td>\n",
       "      <td>0</td>\n",
       "      <td>0</td>\n",
       "      <td>0</td>\n",
       "      <td>...</td>\n",
       "      <td>0</td>\n",
       "      <td>0</td>\n",
       "      <td>0</td>\n",
       "      <td>0</td>\n",
       "      <td>0</td>\n",
       "      <td>0</td>\n",
       "      <td>0</td>\n",
       "      <td>1</td>\n",
       "      <td>1</td>\n",
       "      <td>0</td>\n",
       "    </tr>\n",
       "    <tr>\n",
       "      <th>3</th>\n",
       "      <td>0</td>\n",
       "      <td>1</td>\n",
       "      <td>0</td>\n",
       "      <td>1</td>\n",
       "      <td>0</td>\n",
       "      <td>0</td>\n",
       "      <td>0</td>\n",
       "      <td>0</td>\n",
       "      <td>0</td>\n",
       "      <td>0</td>\n",
       "      <td>...</td>\n",
       "      <td>1</td>\n",
       "      <td>0</td>\n",
       "      <td>0</td>\n",
       "      <td>0</td>\n",
       "      <td>0</td>\n",
       "      <td>0</td>\n",
       "      <td>0</td>\n",
       "      <td>1</td>\n",
       "      <td>1</td>\n",
       "      <td>0</td>\n",
       "    </tr>\n",
       "    <tr>\n",
       "      <th>4</th>\n",
       "      <td>0</td>\n",
       "      <td>1</td>\n",
       "      <td>0</td>\n",
       "      <td>1</td>\n",
       "      <td>0</td>\n",
       "      <td>0</td>\n",
       "      <td>0</td>\n",
       "      <td>0</td>\n",
       "      <td>0</td>\n",
       "      <td>0</td>\n",
       "      <td>...</td>\n",
       "      <td>1</td>\n",
       "      <td>0</td>\n",
       "      <td>0</td>\n",
       "      <td>0</td>\n",
       "      <td>0</td>\n",
       "      <td>0</td>\n",
       "      <td>0</td>\n",
       "      <td>1</td>\n",
       "      <td>1</td>\n",
       "      <td>0</td>\n",
       "    </tr>\n",
       "  </tbody>\n",
       "</table>\n",
       "<p>5 rows × 1877 columns</p>\n",
       "</div>"
      ],
      "text/plain": [
       "   F0  F1  F2  F3  F4  F5  F6  F7  F8  F9  ...    F2038  F2039  F2040  F2041  \\\n",
       "0   0   1   0   1   0   0   0   0   0   0  ...        1      0      0      0   \n",
       "1   0   1   0   1   0   0   0   0   0   0  ...        1      0      0      0   \n",
       "2   0   1   0   1   0   0   0   0   0   0  ...        0      0      0      0   \n",
       "3   0   1   0   1   0   0   0   0   0   0  ...        1      0      0      0   \n",
       "4   0   1   0   1   0   0   0   0   0   0  ...        1      0      0      0   \n",
       "\n",
       "   F2042  F2043  F2044  F2045  F2046  F2047  \n",
       "0      0      0      0      1      1      0  \n",
       "1      0      0      0      1      1      0  \n",
       "2      0      0      0      1      1      0  \n",
       "3      0      0      0      1      1      0  \n",
       "4      0      0      0      1      1      0  \n",
       "\n",
       "[5 rows x 1877 columns]"
      ]
     },
     "execution_count": 32,
     "metadata": {},
     "output_type": "execute_result"
    }
   ],
   "source": [
    "fpsv = zvFilter(fps); fpsv.head()"
   ]
  },
  {
   "cell_type": "code",
   "execution_count": 33,
   "metadata": {},
   "outputs": [
    {
     "data": {
      "text/plain": [
       "RandomForestRegressor(bootstrap=True, criterion='mse', max_depth=None,\n",
       "           max_features='auto', max_leaf_nodes=None,\n",
       "           min_impurity_decrease=0.0, min_impurity_split=None,\n",
       "           min_samples_leaf=1, min_samples_split=2,\n",
       "           min_weight_fraction_leaf=0.0, n_estimators=100, n_jobs=None,\n",
       "           oob_score=True, random_state=None, verbose=0, warm_start=False)"
      ]
     },
     "execution_count": 33,
     "metadata": {},
     "output_type": "execute_result"
    }
   ],
   "source": [
    "regr.fit(fpsv,y)"
   ]
  },
  {
   "cell_type": "code",
   "execution_count": 34,
   "metadata": {},
   "outputs": [],
   "source": [
    "yob = regr.oob_prediction_"
   ]
  },
  {
   "cell_type": "code",
   "execution_count": 35,
   "metadata": {},
   "outputs": [
    {
     "data": {
      "image/png": "[encoded data removed]",
      "text/plain": [
       "<Figure size 432x288 with 1 Axes>"
      ]
     },
     "metadata": {},
     "output_type": "display_data"
    }
   ],
   "source": [
    "sbn.regplot(y,yob)\n",
    "plt.title('SLogP Prediction Based on Fingerprint')\n",
    "plt.show()"
   ]
  },
  {
   "cell_type": "code",
   "execution_count": 36,
   "metadata": {},
   "outputs": [
    {
     "name": "stdout",
     "output_type": "stream",
     "text": [
      "R2 = 0.8508406058711927\n"
     ]
    }
   ],
   "source": [
    "r2, _P = pearsonr(y,yob)\n",
    "print(f'R2 = {r2}')"
   ]
  },
  {
   "cell_type": "markdown",
   "metadata": {},
   "source": [
    "## Calculate Molecular Similarity based on Hidden Rep"
   ]
  },
  {
   "cell_type": "code",
   "execution_count": 5,
   "metadata": {},
   "outputs": [
    {
     "data": {
      "text/html": [
       "<div>\n",
       "<style scoped>\n",
       "    .dataframe tbody tr th:only-of-type {\n",
       "        vertical-align: middle;\n",
       "    }\n",
       "\n",
       "    .dataframe tbody tr th {\n",
       "        vertical-align: top;\n",
       "    }\n",
       "\n",
       "    .dataframe thead th {\n",
       "        text-align: right;\n",
       "    }\n",
       "</style>\n",
       "<table border=\"1\" class=\"dataframe\">\n",
       "  <thead>\n",
       "    <tr style=\"text-align: right;\">\n",
       "      <th></th>\n",
       "      <th>Cmpd1</th>\n",
       "      <th>Cmpd2</th>\n",
       "      <th>TS</th>\n",
       "    </tr>\n",
       "  </thead>\n",
       "  <tbody>\n",
       "    <tr>\n",
       "      <th>0</th>\n",
       "      <td>Brc1cc(co1)C(=O)N1CC=C(C1)c1ccccc1</td>\n",
       "      <td>Brc1cc(co1)C(=O)N1CC=C(C1)c1ccccc1</td>\n",
       "      <td>1.000000</td>\n",
       "    </tr>\n",
       "    <tr>\n",
       "      <th>1</th>\n",
       "      <td>COc1ccc(cc1)S(=O)(=O)NCc1ccc(cc1)C(=O)Nc1cccc2...</td>\n",
       "      <td>CC(=O)Nc1ccc(cc1)S(=O)(=O)N1CCC(CC1)C(=O)Nc1cc...</td>\n",
       "      <td>0.890591</td>\n",
       "    </tr>\n",
       "    <tr>\n",
       "      <th>2</th>\n",
       "      <td>Cc1cc(N)nc(SC[C@H]2Cn3c(S2)nnc3-c2cccnc2)n1</td>\n",
       "      <td>C(Sc1ccccc1)[C@H]1Cn2c(S1)nnc2-c1cccnc1</td>\n",
       "      <td>0.864322</td>\n",
       "    </tr>\n",
       "    <tr>\n",
       "      <th>3</th>\n",
       "      <td>CC[C@@H](Oc1cccc(C)c1)C(=O)NCc1ccc(OC2CC[NH+](...</td>\n",
       "      <td>[O-]C(=O)[C@@H](Cc1ccccc1)NC(=O)c1cccc(OCc2ccc...</td>\n",
       "      <td>0.851515</td>\n",
       "    </tr>\n",
       "    <tr>\n",
       "      <th>4</th>\n",
       "      <td>Fc1cc(ccc1C(=O)N1CCCC1)S(=O)(=O)N(CC#C)CC#C</td>\n",
       "      <td>CC[C@H]1CC[C@H](C)N1C(=O)c1cccc([N-]S(=O)(=O)c...</td>\n",
       "      <td>0.842893</td>\n",
       "    </tr>\n",
       "  </tbody>\n",
       "</table>\n",
       "</div>"
      ],
      "text/plain": [
       "                                               Cmpd1  \\\n",
       "0                 Brc1cc(co1)C(=O)N1CC=C(C1)c1ccccc1   \n",
       "1  COc1ccc(cc1)S(=O)(=O)NCc1ccc(cc1)C(=O)Nc1cccc2...   \n",
       "2        Cc1cc(N)nc(SC[C@H]2Cn3c(S2)nnc3-c2cccnc2)n1   \n",
       "3  CC[C@@H](Oc1cccc(C)c1)C(=O)NCc1ccc(OC2CC[NH+](...   \n",
       "4        Fc1cc(ccc1C(=O)N1CCCC1)S(=O)(=O)N(CC#C)CC#C   \n",
       "\n",
       "                                               Cmpd2        TS  \n",
       "0                 Brc1cc(co1)C(=O)N1CC=C(C1)c1ccccc1  1.000000  \n",
       "1  CC(=O)Nc1ccc(cc1)S(=O)(=O)N1CCC(CC1)C(=O)Nc1cc...  0.890591  \n",
       "2            C(Sc1ccccc1)[C@H]1Cn2c(S1)nnc2-c1cccnc1  0.864322  \n",
       "3  [O-]C(=O)[C@@H](Cc1ccccc1)NC(=O)c1cccc(OCc2ccc...  0.851515  \n",
       "4  CC[C@H]1CC[C@H](C)N1C(=O)c1cccc([N-]S(=O)(=O)c...  0.842893  "
      ]
     },
     "execution_count": 5,
     "metadata": {},
     "output_type": "execute_result"
    }
   ],
   "source": [
    "#for similarity 200 pairs with Patern FP TS \n",
    "fn2 = 'data/Zinc2000Pairs.csv' \n",
    "df2 = pd.read_csv(fn2,sep='\\t')\n",
    "df2.head()"
   ]
  },
  {
   "cell_type": "code",
   "execution_count": 6,
   "metadata": {},
   "outputs": [],
   "source": [
    "cmpd1 = list(df2['Cmpd1'])\n",
    "cmpd2 = list(df2['Cmpd2'])"
   ]
  },
  {
   "cell_type": "code",
   "execution_count": 38,
   "metadata": {},
   "outputs": [],
   "source": [
    "ch1 = sgv.encode(cmpd1)"
   ]
  },
  {
   "cell_type": "code",
   "execution_count": 39,
   "metadata": {},
   "outputs": [],
   "source": [
    "ch2 = sgv.encode(cmpd2)"
   ]
  },
  {
   "cell_type": "code",
   "execution_count": 97,
   "metadata": {},
   "outputs": [],
   "source": [
    "def acsim(a,b):\n",
    "    d = np.sqrt(np.dot(a,a)*np.dot(b,b))\n",
    "    dst = np.dot(a,b) / d\n",
    "    dst = np.arccos(dst)/np.pi\n",
    "    return 1.0 - dst          "
   ]
  },
  {
   "cell_type": "code",
   "execution_count": 98,
   "metadata": {},
   "outputs": [],
   "source": [
    "hsim = [acsim(a,b) for a,b in zip(ch1,ch2)]"
   ]
  },
  {
   "cell_type": "code",
   "execution_count": 100,
   "metadata": {},
   "outputs": [
    {
     "data": {
      "text/html": [
       "<div>\n",
       "<style scoped>\n",
       "    .dataframe tbody tr th:only-of-type {\n",
       "        vertical-align: middle;\n",
       "    }\n",
       "\n",
       "    .dataframe tbody tr th {\n",
       "        vertical-align: top;\n",
       "    }\n",
       "\n",
       "    .dataframe thead th {\n",
       "        text-align: right;\n",
       "    }\n",
       "</style>\n",
       "<table border=\"1\" class=\"dataframe\">\n",
       "  <thead>\n",
       "    <tr style=\"text-align: right;\">\n",
       "      <th></th>\n",
       "      <th>Cmpd1</th>\n",
       "      <th>Cmpd2</th>\n",
       "      <th>TS</th>\n",
       "      <th>HSIM</th>\n",
       "    </tr>\n",
       "  </thead>\n",
       "  <tbody>\n",
       "    <tr>\n",
       "      <th>0</th>\n",
       "      <td>Brc1cc(co1)C(=O)N1CC=C(C1)c1ccccc1</td>\n",
       "      <td>Brc1cc(co1)C(=O)N1CC=C(C1)c1ccccc1</td>\n",
       "      <td>1.000000</td>\n",
       "      <td>1.000000</td>\n",
       "    </tr>\n",
       "    <tr>\n",
       "      <th>1</th>\n",
       "      <td>COc1ccc(cc1)S(=O)(=O)NCc1ccc(cc1)C(=O)Nc1cccc2...</td>\n",
       "      <td>CC(=O)Nc1ccc(cc1)S(=O)(=O)N1CCC(CC1)C(=O)Nc1cc...</td>\n",
       "      <td>0.890591</td>\n",
       "      <td>0.698287</td>\n",
       "    </tr>\n",
       "    <tr>\n",
       "      <th>2</th>\n",
       "      <td>Cc1cc(N)nc(SC[C@H]2Cn3c(S2)nnc3-c2cccnc2)n1</td>\n",
       "      <td>C(Sc1ccccc1)[C@H]1Cn2c(S1)nnc2-c1cccnc1</td>\n",
       "      <td>0.864322</td>\n",
       "      <td>0.562305</td>\n",
       "    </tr>\n",
       "    <tr>\n",
       "      <th>3</th>\n",
       "      <td>CC[C@@H](Oc1cccc(C)c1)C(=O)NCc1ccc(OC2CC[NH+](...</td>\n",
       "      <td>[O-]C(=O)[C@@H](Cc1ccccc1)NC(=O)c1cccc(OCc2ccc...</td>\n",
       "      <td>0.851515</td>\n",
       "      <td>0.515816</td>\n",
       "    </tr>\n",
       "    <tr>\n",
       "      <th>4</th>\n",
       "      <td>Fc1cc(ccc1C(=O)N1CCCC1)S(=O)(=O)N(CC#C)CC#C</td>\n",
       "      <td>CC[C@H]1CC[C@H](C)N1C(=O)c1cccc([N-]S(=O)(=O)c...</td>\n",
       "      <td>0.842893</td>\n",
       "      <td>0.449018</td>\n",
       "    </tr>\n",
       "  </tbody>\n",
       "</table>\n",
       "</div>"
      ],
      "text/plain": [
       "                                               Cmpd1  \\\n",
       "0                 Brc1cc(co1)C(=O)N1CC=C(C1)c1ccccc1   \n",
       "1  COc1ccc(cc1)S(=O)(=O)NCc1ccc(cc1)C(=O)Nc1cccc2...   \n",
       "2        Cc1cc(N)nc(SC[C@H]2Cn3c(S2)nnc3-c2cccnc2)n1   \n",
       "3  CC[C@@H](Oc1cccc(C)c1)C(=O)NCc1ccc(OC2CC[NH+](...   \n",
       "4        Fc1cc(ccc1C(=O)N1CCCC1)S(=O)(=O)N(CC#C)CC#C   \n",
       "\n",
       "                                               Cmpd2        TS      HSIM  \n",
       "0                 Brc1cc(co1)C(=O)N1CC=C(C1)c1ccccc1  1.000000  1.000000  \n",
       "1  CC(=O)Nc1ccc(cc1)S(=O)(=O)N1CCC(CC1)C(=O)Nc1cc...  0.890591  0.698287  \n",
       "2            C(Sc1ccccc1)[C@H]1Cn2c(S1)nnc2-c1cccnc1  0.864322  0.562305  \n",
       "3  [O-]C(=O)[C@@H](Cc1ccccc1)NC(=O)c1cccc(OCc2ccc...  0.851515  0.515816  \n",
       "4  CC[C@H]1CC[C@H](C)N1C(=O)c1cccc([N-]S(=O)(=O)c...  0.842893  0.449018  "
      ]
     },
     "execution_count": 100,
     "metadata": {},
     "output_type": "execute_result"
    }
   ],
   "source": [
    "df2['HSIM'] = hsim; df2.head()"
   ]
  },
  {
   "cell_type": "code",
   "execution_count": 102,
   "metadata": {},
   "outputs": [
    {
     "data": {
      "image/png": "[encoded data removed]",
      "text/plain": [
       "<Figure size 432x288 with 1 Axes>"
      ]
     },
     "metadata": {},
     "output_type": "display_data"
    }
   ],
   "source": [
    "sbn.regplot(df2.TS,df2.HSIM)\n",
    "plt.title('HSIM vs Pattern Fingerprint TS')\n",
    "plt.show()"
   ]
  },
  {
   "cell_type": "code",
   "execution_count": null,
   "metadata": {},
   "outputs": [],
   "source": []
  }
 ],
 "metadata": {
  "kernelspec": {
   "display_name": "Python 3",
   "language": "python",
   "name": "python3"
  },
  "language_info": {
   "codemirror_mode": {
    "name": "ipython",
    "version": 3
   },
   "file_extension": ".py",
   "mimetype": "text/x-python",
   "name": "python",
   "nbconvert_exporter": "python",
   "pygments_lexer": "ipython3",
   "version": "3.6.7"
  }
 },
 "nbformat": 4,
 "nbformat_minor": 2
}
